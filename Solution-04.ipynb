{
 "cells": [
  {
   "cell_type": "code",
   "execution_count": null,
   "id": "ef81b564",
   "metadata": {},
   "outputs": [],
   "source": [
    "from kanren import *\n",
    "from kanren.core import lall"
   ]
  },
  {
   "cell_type": "code",
   "execution_count": null,
   "id": "66244524",
   "metadata": {},
   "outputs": [],
   "source": [
    "import json\n",
    "from kanren import Relation, facts, run, conde, var, eq"
   ]
  },
  {
   "cell_type": "code",
   "execution_count": null,
   "id": "740bfb57",
   "metadata": {},
   "outputs": [],
   "source": [
    "# Declare the variable\n",
    "people = var()"
   ]
  },
  {
   "cell_type": "code",
   "execution_count": null,
   "id": "0c8556e0",
   "metadata": {},
   "outputs": [],
   "source": [
    "# Define the rules\n",
    "rules = lall(\n",
    "    # There are 4 people\n",
    "    (eq, (var(), var(), var(), var()), people),)"
   ]
  },
  {
   "cell_type": "code",
   "execution_count": null,
   "id": "5c68ea2d",
   "metadata": {},
   "outputs": [],
   "source": [
    "    # Steve's car is blue\n",
    "    (membero, ('Steve', var(), 'blue', var()), people),"
   ]
  },
  {
   "cell_type": "code",
   "execution_count": null,
   "id": "b7eb3d8e",
   "metadata": {},
   "outputs": [],
   "source": [
    "    # Person who has a cat lives in Canada\n",
    "    (membero, (var(), 'cat', var(), 'Canada'), people),"
   ]
  },
  {
   "cell_type": "code",
   "execution_count": null,
   "id": "800c592d",
   "metadata": {},
   "outputs": [],
   "source": [
    "    # Matthew lives in USA\n",
    "    (membero, ('Matthew', var(), var(), 'USA'), people),"
   ]
  },
  {
   "cell_type": "code",
   "execution_count": null,
   "id": "a21fbcb0",
   "metadata": {},
   "outputs": [],
   "source": [
    "    # The person who has a black car lives in Australia\n",
    "    (membero, (var(), var(), 'black', 'Australia'), people),"
   ]
  },
  {
   "cell_type": "code",
   "execution_count": null,
   "id": "ff7f8b72",
   "metadata": {},
   "outputs": [],
   "source": [
    "    # Jack has a cat\n",
    "    (membero, ('Jack', 'cat', var(), var()), people),"
   ]
  },
  {
   "cell_type": "code",
   "execution_count": null,
   "id": "5fa8bd00",
   "metadata": {},
   "outputs": [],
   "source": [
    "    # Alfred lives in Australia\n",
    "    (membero, ('Alfred', var(), var(), 'Australia'), people),"
   ]
  },
  {
   "cell_type": "code",
   "execution_count": null,
   "id": "5a988455",
   "metadata": {},
   "outputs": [],
   "source": [
    "    # Person who owns the dog lives in France\n",
    "    (membero, (var(), 'dog', var(), 'France'), people),"
   ]
  },
  {
   "cell_type": "code",
   "execution_count": null,
   "id": "fc392959",
   "metadata": {},
   "outputs": [],
   "source": [
    "    # Who has a rabbit?\n",
    "    (membero, (var(), 'rabbit', var(), var()), people)"
   ]
  },
  {
   "cell_type": "code",
   "execution_count": null,
   "id": "75311f76",
   "metadata": {},
   "outputs": [],
   "source": [
    "# Run the solver\n",
    "solutions = run(0, people, rules)"
   ]
  },
  {
   "cell_type": "code",
   "execution_count": null,
   "id": "992f1b2b",
   "metadata": {},
   "outputs": [],
   "source": [
    "# Extract the output\n",
    "output = [house for house in solutions[0] if 'rabbit' in house][0][0]"
   ]
  },
  {
   "cell_type": "code",
   "execution_count": null,
   "id": "3852c329",
   "metadata": {},
   "outputs": [],
   "source": [
    "# Print the output\n",
    "\n",
    "print('\\n' + output + ' is the owner of the rabbit')\n",
    "\n",
    "print('\\nHere are all the details:')\n",
    "\n",
    "attribs = ['Name', 'Pet', 'Color', 'Country']\n",
    "\n",
    "print('\\n' + '\\t\\t'.join(attribs))\n",
    "\n",
    "print('=' * 57)\n",
    "\n",
    "for item in solutions[0]:\n",
    "\n",
    "    print('')\n",
    "\n",
    "    print('\\t\\t'.join([str(x) for x in item]))"
   ]
  },
  {
   "cell_type": "code",
   "execution_count": null,
   "id": "99585a10",
   "metadata": {},
   "outputs": [],
   "source": [
    "############### END ##############################"
   ]
  }
 ],
 "metadata": {
  "kernelspec": {
   "display_name": "Python 3 (ipykernel)",
   "language": "python",
   "name": "python3"
  },
  "language_info": {
   "codemirror_mode": {
    "name": "ipython",
    "version": 3
   },
   "file_extension": ".py",
   "mimetype": "text/x-python",
   "name": "python",
   "nbconvert_exporter": "python",
   "pygments_lexer": "ipython3",
   "version": "3.8.8"
  }
 },
 "nbformat": 4,
 "nbformat_minor": 5
}
